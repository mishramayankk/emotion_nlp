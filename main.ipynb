{
 "cells": [
  {
   "cell_type": "code",
   "execution_count": 1,
   "metadata": {},
   "outputs": [],
   "source": [
    "#Cleaning text Steps!\n",
    "# 1. Create all the uppercases and everything to lower cases.\n",
    "# 2. Remove all the symbols.\n",
    "# and create a text file where you can use the text from i.e. punctuations.\n",
    "\n",
    "#We also need counter for counting the number of emotions added\n",
    "\n",
    "from collections import Counter\n",
    "import string\n",
    "import matplotlib.pyplot as plt\n",
    "\n",
    "\n",
    "text = open('read.txt',encoding='utf-8').read()\n",
    "lower_case = text.lower()"
   ]
  },
  {
   "cell_type": "code",
   "execution_count": 2,
   "metadata": {},
   "outputs": [],
   "source": [
    "# the cleaned string of punctuation.\n",
    "#here the 3 parameters which we passed are:\n",
    "#1. The list of char which need to replace\n",
    "#2. The list of char with which the char need to be replaced with.\n",
    "#3. The list of char which needed to be deleted.\n",
    "\n",
    "cleaned_str = lower_case.translate(str.maketrans('','',string.punctuation))"
   ]
  },
  {
   "cell_type": "code",
   "execution_count": 3,
   "metadata": {},
   "outputs": [],
   "source": [
    "# Tokenization - tokenisation is basically breaking the sentences\n",
    "# into words of list like \"I love python\"--> \"I\", \"love\", \"Python\"\n",
    "\n",
    "#We need to tokenise words because the NLP is the analysis of words rather than sentences.\n",
    "\n",
    "tok_words = cleaned_str.split()"
   ]
  },
  {
   "cell_type": "code",
   "execution_count": 4,
   "metadata": {},
   "outputs": [],
   "source": [
    "#Stop words --> The words which dont adds any meaning to the sentences in NLP such as \"I\" \"We\" ....\n",
    "#these words are collected manually but we can use NLPTK library.\n",
    "stop_words = [\"i\", \"me\", \"my\", \"myself\", \"we\", \"our\", \"ours\", \"ourselves\", \"you\", \"your\", \"yours\", \"yourself\",\n",
    "              \"yourselves\", \"he\", \"him\", \"his\", \"himself\", \"she\", \"her\", \"hers\", \"herself\", \"it\", \"its\", \"itself\",\n",
    "              \"they\", \"them\", \"their\", \"theirs\", \"themselves\", \"what\", \"which\", \"who\", \"whom\", \"this\", \"that\", \"these\",\n",
    "              \"those\", \"am\", \"is\", \"are\", \"was\", \"were\", \"be\", \"been\", \"being\", \"have\", \"has\", \"had\", \"having\", \"do\",\n",
    "              \"does\", \"did\", \"doing\", \"a\", \"an\", \"the\", \"and\", \"but\", \"if\", \"or\", \"because\", \"as\", \"until\", \"while\",\n",
    "              \"of\", \"at\", \"by\", \"for\", \"with\", \"about\", \"against\", \"between\", \"into\", \"through\", \"during\", \"before\",\n",
    "              \"after\", \"above\", \"below\", \"to\", \"from\", \"up\", \"down\", \"in\", \"out\", \"on\", \"off\", \"over\", \"under\", \"again\",\n",
    "              \"further\", \"then\", \"once\", \"here\", \"there\", \"when\", \"where\", \"why\", \"how\", \"all\", \"any\", \"both\", \"each\",\n",
    "              \"few\", \"more\", \"most\", \"other\", \"some\", \"such\", \"no\", \"nor\", \"not\", \"only\", \"own\", \"same\", \"so\", \"than\",\n",
    "              \"too\", \"very\", \"s\", \"t\", \"can\", \"will\", \"just\", \"don\", \"should\", \"now\"]\n",
    "\n"
   ]
  },
  {
   "cell_type": "code",
   "execution_count": 5,
   "metadata": {},
   "outputs": [],
   "source": [
    "#creating a for loop for pasrsing through and selecting the tokenised words. \n",
    "#and printing the words which does not contain stop words.\n",
    "\n",
    "final_words = []\n",
    "for word in tok_words:\n",
    "    if word not in stop_words:\n",
    "        final_words.append(word)\n",
    "\n"
   ]
  },
  {
   "cell_type": "code",
   "execution_count": 6,
   "metadata": {},
   "outputs": [],
   "source": [
    "#NLP emotion algorithm\n",
    "# 1. Check if the word in the final word is also present in the emotion.txt\n",
    "#       -open the emotion file\n",
    "#       -Loop through each line and clear it\n",
    "#       -Extract the word and emotion using split\n",
    "\n",
    "# 2. If the word is present -> Add the emotion to the emotion list\n",
    "# 3. Count the each emotion to the emotion list\n",
    "\n",
    "emotion_list = []\n",
    "with open('emotion.txt','r') as file:\n",
    "    for line in file:\n",
    "        clean_line = line.replace(\"\\n\",\"\").replace(\".\",\"\").replace(\"'\",\"\").replace(\",\",\"\").strip()\n",
    "        word , emotion =clean_line.split(\":\")\n",
    "        \n",
    "        # we are going to perform step 2.\n",
    "        if word in final_words:\n",
    "            emotion_list.append(emotion)\n",
    "\n",
    "\n",
    "counter_list = Counter(emotion_list)\n",
    "\n",
    "\n"
   ]
  },
  {
   "cell_type": "code",
   "execution_count": 8,
   "metadata": {},
   "outputs": [
    {
     "data": {
      "image/png": "[encoded data removed]",
      "text/plain": [
       "<Figure size 640x480 with 1 Axes>"
      ]
     },
     "metadata": {},
     "output_type": "display_data"
    }
   ],
   "source": [
    "#Plotting the graph\n",
    "fig, axs1 = plt.subplots()\n",
    "axs1.bar(counter_list.keys(), counter_list.values())\n",
    "fig.autofmt_xdate()\n",
    "plt.savefig(\"EmotionGraph.png\")\n",
    "plt.show()\n"
   ]
  },
  {
   "cell_type": "code",
   "execution_count": null,
   "metadata": {},
   "outputs": [],
   "source": []
  }
 ],
 "metadata": {
  "kernelspec": {
   "display_name": "Python 3",
   "language": "python",
   "name": "python3"
  },
  "language_info": {
   "codemirror_mode": {
    "name": "ipython",
    "version": 3
   },
   "file_extension": ".py",
   "mimetype": "text/x-python",
   "name": "python",
   "nbconvert_exporter": "python",
   "pygments_lexer": "ipython3",
   "version": "3.11.4"
  },
  "orig_nbformat": 4
 },
 "nbformat": 4,
 "nbformat_minor": 2
}
